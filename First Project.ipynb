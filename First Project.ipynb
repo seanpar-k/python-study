{
 "cells": [
  {
   "cell_type": "code",
   "execution_count": 5,
   "id": "c0310afc-131a-4fcb-9cb1-440add31cb07",
   "metadata": {},
   "outputs": [
    {
     "name": "stdout",
     "output_type": "stream",
     "text": [
      "hello jupyter!\n"
     ]
    }
   ],
   "source": [
    "print('hello jupyter!')"
   ]
  },
  {
   "cell_type": "code",
   "execution_count": 3,
   "id": "7f8ae0c2-b1c1-4e58-b84d-ad7d38e4e4f0",
   "metadata": {},
   "outputs": [
    {
     "name": "stdout",
     "output_type": "stream",
     "text": [
      "my first project\n"
     ]
    }
   ],
   "source": [
    "print('my first project')"
   ]
  },
  {
   "cell_type": "code",
   "execution_count": null,
   "id": "9d3131a4-25c2-42f0-a705-0b43a53c6e48",
   "metadata": {},
   "outputs": [],
   "source": []
  }
 ],
 "metadata": {
  "kernelspec": {
   "display_name": "Python [conda env:base] *",
   "language": "python",
   "name": "conda-base-py"
  },
  "language_info": {
   "codemirror_mode": {
    "name": "ipython",
    "version": 3
   },
   "file_extension": ".py",
   "mimetype": "text/x-python",
   "name": "python",
   "nbconvert_exporter": "python",
   "pygments_lexer": "ipython3",
   "version": "3.12.7"
  }
 },
 "nbformat": 4,
 "nbformat_minor": 5
}
