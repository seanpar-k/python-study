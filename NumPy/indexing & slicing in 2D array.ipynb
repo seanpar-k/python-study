{
 "cells": [
  {
   "cell_type": "code",
   "execution_count": 1,
   "id": "797d70d2-4151-46b5-a8e6-5c995a08678c",
   "metadata": {},
   "outputs": [],
   "source": [
    "import numpy as np"
   ]
  },
  {
   "cell_type": "code",
   "execution_count": 3,
   "id": "63313a7e-3e6d-435d-9171-7b3d2955a7d9",
   "metadata": {},
   "outputs": [
    {
     "data": {
      "text/plain": [
       "array([[12257, 11561, 13165, 14673, 16496, 19403],\n",
       "       [39169, 34406, 32821, 35387, 38299, 37813],\n",
       "       [  959,  1053,  1149,  1289,  1509,  1753],\n",
       "       [36335, 37133, 38023, 39496, 41713, 44115]])"
      ]
     },
     "execution_count": 3,
     "metadata": {},
     "output_type": "execute_result"
    }
   ],
   "source": [
    "gdp_array = np.array([\n",
    "    [12257, 11561, 13165, 14673, 16496, 19403],  # 대한민국\n",
    "    [39169, 34406, 32821, 35387, 38299, 37813],  # 일본\n",
    "    [959, 1053, 1149, 1289, 1509, 1753],         # 중국\n",
    "    [36335, 37133, 38023, 39496, 41713, 44115]   # 미국\n",
    "])\n",
    "gdp_array"
   ]
  },
  {
   "cell_type": "code",
   "execution_count": 7,
   "id": "1a5bb5a5-41ee-46e9-b92c-ea084ce2557f",
   "metadata": {},
   "outputs": [
    {
     "data": {
      "text/plain": [
       "array([39169, 34406, 32821, 35387, 38299, 37813])"
      ]
     },
     "execution_count": 7,
     "metadata": {},
     "output_type": "execute_result"
    }
   ],
   "source": [
    "gdp_array[1]"
   ]
  },
  {
   "cell_type": "code",
   "execution_count": 9,
   "id": "92e8d8db-61bc-4afd-b7e7-a6254ada3168",
   "metadata": {},
   "outputs": [
    {
     "data": {
      "text/plain": [
       "35387"
      ]
     },
     "execution_count": 9,
     "metadata": {},
     "output_type": "execute_result"
    }
   ],
   "source": [
    "gdp_array[1][3]"
   ]
  },
  {
   "cell_type": "code",
   "execution_count": 11,
   "id": "26938044-7bd7-46c0-9335-ae5b4d52dcf0",
   "metadata": {},
   "outputs": [
    {
     "data": {
      "text/plain": [
       "35387"
      ]
     },
     "execution_count": 11,
     "metadata": {},
     "output_type": "execute_result"
    }
   ],
   "source": [
    "gdp_array[1, 3]"
   ]
  },
  {
   "cell_type": "code",
   "execution_count": 13,
   "id": "4ec43587-2120-4c9c-8d51-bf34e6c5299d",
   "metadata": {},
   "outputs": [
    {
     "data": {
      "text/plain": [
       "array([[32821, 35387, 38299],\n",
       "       [ 1149,  1289,  1509]])"
      ]
     },
     "execution_count": 13,
     "metadata": {},
     "output_type": "execute_result"
    }
   ],
   "source": [
    "gdp_array[1:3, 2:5]"
   ]
  },
  {
   "cell_type": "code",
   "execution_count": 15,
   "id": "9d11d563-f7bc-4442-b2a8-8f79bfb9ef47",
   "metadata": {},
   "outputs": [
    {
     "data": {
      "text/plain": [
       "array([[13165, 14673, 16496],\n",
       "       [32821, 35387, 38299],\n",
       "       [ 1149,  1289,  1509]])"
      ]
     },
     "execution_count": 15,
     "metadata": {},
     "output_type": "execute_result"
    }
   ],
   "source": [
    "gdp_array[:3, 2:5]"
   ]
  },
  {
   "cell_type": "code",
   "execution_count": 17,
   "id": "16c8c679-689f-4a14-9227-950c8fd5c97f",
   "metadata": {},
   "outputs": [
    {
     "data": {
      "text/plain": [
       "array([[13165, 14673, 16496],\n",
       "       [32821, 35387, 38299],\n",
       "       [ 1149,  1289,  1509],\n",
       "       [38023, 39496, 41713]])"
      ]
     },
     "execution_count": 17,
     "metadata": {},
     "output_type": "execute_result"
    }
   ],
   "source": [
    "gdp_array[:, 2:5]"
   ]
  },
  {
   "cell_type": "code",
   "execution_count": null,
   "id": "fb736029-1f68-4664-884c-0fcea196ec2b",
   "metadata": {},
   "outputs": [],
   "source": []
  }
 ],
 "metadata": {
  "kernelspec": {
   "display_name": "Python [conda env:base] *",
   "language": "python",
   "name": "conda-base-py"
  },
  "language_info": {
   "codemirror_mode": {
    "name": "ipython",
    "version": 3
   },
   "file_extension": ".py",
   "mimetype": "text/x-python",
   "name": "python",
   "nbconvert_exporter": "python",
   "pygments_lexer": "ipython3",
   "version": "3.12.7"
  }
 },
 "nbformat": 4,
 "nbformat_minor": 5
}
