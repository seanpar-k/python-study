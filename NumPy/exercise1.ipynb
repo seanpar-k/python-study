{
 "cells": [
  {
   "cell_type": "code",
   "execution_count": 1,
   "id": "d2c0fa81-bd54-449b-812f-6d18d885271c",
   "metadata": {},
   "outputs": [],
   "source": [
    "import numpy as np"
   ]
  },
  {
   "cell_type": "code",
   "execution_count": 3,
   "id": "228c7f95-b3cd-44d5-bd6e-a580b26b18e6",
   "metadata": {},
   "outputs": [],
   "source": [
    "bitcoin_array = np.array([970, 1180, 1072, 1348, 2286, 2481, 2875, 4703, 4339, 6468, 10234, 14156])"
   ]
  },
  {
   "cell_type": "code",
   "execution_count": 9,
   "id": "57a4207d-fd3f-4f07-b6ef-fdcc149e8d6a",
   "metadata": {},
   "outputs": [
    {
     "data": {
      "text/plain": [
       "array([2875, 4703, 4339])"
      ]
     },
     "execution_count": 9,
     "metadata": {},
     "output_type": "execute_result"
    }
   ],
   "source": [
    "array_3q = [6, 7, 8]\n",
    "bitcoin_array[array_3q]"
   ]
  },
  {
   "cell_type": "code",
   "execution_count": 11,
   "id": "f70bd97f-b2d0-40e7-9131-47f1316614d7",
   "metadata": {},
   "outputs": [
    {
     "data": {
      "text/plain": [
       "array([2875, 4703, 4339])"
      ]
     },
     "execution_count": 11,
     "metadata": {},
     "output_type": "execute_result"
    }
   ],
   "source": [
    "bitcoin_array[6:9]"
   ]
  },
  {
   "cell_type": "code",
   "execution_count": null,
   "id": "92822bd5-ea53-44b2-970a-8c2de98665d7",
   "metadata": {},
   "outputs": [],
   "source": []
  }
 ],
 "metadata": {
  "kernelspec": {
   "display_name": "Python [conda env:base] *",
   "language": "python",
   "name": "conda-base-py"
  },
  "language_info": {
   "codemirror_mode": {
    "name": "ipython",
    "version": 3
   },
   "file_extension": ".py",
   "mimetype": "text/x-python",
   "name": "python",
   "nbconvert_exporter": "python",
   "pygments_lexer": "ipython3",
   "version": "3.12.7"
  }
 },
 "nbformat": 4,
 "nbformat_minor": 5
}
