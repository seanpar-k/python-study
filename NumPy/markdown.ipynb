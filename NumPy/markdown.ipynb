{
 "cells": [
  {
   "cell_type": "markdown",
   "id": "e2ba50b0-6172-45fb-9961-671d9d84a098",
   "metadata": {},
   "source": [
    "데이터 사이언스"
   ]
  },
  {
   "cell_type": "markdown",
   "id": "dabcfe04-66f5-4561-903b-3e74316a8ba3",
   "metadata": {},
   "source": [
    "# 데이터 사이언스\n",
    "## 데이터 사이언스\n",
    "### 데이터 사이언스\n",
    "데이터 사이언스"
   ]
  },
  {
   "cell_type": "markdown",
   "id": "15e9806a-1dc3-412a-b62d-898547293396",
   "metadata": {},
   "source": [
    "이번 토픽을 통해 **데이터 사이언스**의 기초를 *탄탄하게* 다집시다."
   ]
  },
  {
   "cell_type": "markdown",
   "id": "a32df310-4552-456e-8fdf-6390d8861bb6",
   "metadata": {},
   "source": [
    "- Jupyer Notebook\n",
    "- NumPy\n",
    "- matplotlib\n",
    "- pandas"
   ]
  },
  {
   "cell_type": "code",
   "execution_count": null,
   "id": "d580689f-efc3-49eb-aa39-4bd0602b12e4",
   "metadata": {},
   "outputs": [],
   "source": []
  }
 ],
 "metadata": {
  "kernelspec": {
   "display_name": "Python [conda env:base] *",
   "language": "python",
   "name": "conda-base-py"
  },
  "language_info": {
   "codemirror_mode": {
    "name": "ipython",
    "version": 3
   },
   "file_extension": ".py",
   "mimetype": "text/x-python",
   "name": "python",
   "nbconvert_exporter": "python",
   "pygments_lexer": "ipython3",
   "version": "3.12.7"
  }
 },
 "nbformat": 4,
 "nbformat_minor": 5
}
