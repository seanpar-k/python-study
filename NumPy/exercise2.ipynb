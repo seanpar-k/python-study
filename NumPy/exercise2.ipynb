{
 "cells": [
  {
   "cell_type": "code",
   "execution_count": 1,
   "id": "051c6fca-7872-45bc-a5c5-030efecab6a2",
   "metadata": {},
   "outputs": [],
   "source": [
    "import numpy as np"
   ]
  },
  {
   "cell_type": "code",
   "execution_count": 13,
   "id": "402d55e0-5cf8-4a13-a81f-2d45ba0b1baf",
   "metadata": {},
   "outputs": [
    {
     "data": {
      "text/plain": [
       "array([[  970,  1180,  1072,  1348,  2286,  2481,  2875,  4703,  4339,\n",
       "         6468, 10234, 14156],\n",
       "       [  514,   428,  1087,   976,  3426,  4448,  3262,  6355,  5570,\n",
       "         5801, 14074, 41034]])"
      ]
     },
     "execution_count": 13,
     "metadata": {},
     "output_type": "execute_result"
    }
   ],
   "source": [
    "bitcoin_array = np.array([\n",
    "    [970, 1180, 1072, 1348, 2286, 2481, 2875, 4703, 4339, 6468, 10234, 14156],\n",
    "    [514, 428, 1087, 976, 3426, 4448, 3262, 6355, 5570, 5801, 14074, 41034]\n",
    "])\n",
    "bitcoin_array"
   ]
  },
  {
   "cell_type": "code",
   "execution_count": 17,
   "id": "049298c1-db2e-4bf5-9e58-d8ee8f7efa36",
   "metadata": {},
   "outputs": [
    {
     "data": {
      "text/plain": [
       "3262"
      ]
     },
     "execution_count": 17,
     "metadata": {},
     "output_type": "execute_result"
    }
   ],
   "source": [
    "bitcoin_array[1, 6]"
   ]
  },
  {
   "cell_type": "code",
   "execution_count": null,
   "id": "44a3dc25-a188-4b6f-aee5-5e51e7435d94",
   "metadata": {},
   "outputs": [],
   "source": []
  }
 ],
 "metadata": {
  "kernelspec": {
   "display_name": "Python [conda env:base] *",
   "language": "python",
   "name": "conda-base-py"
  },
  "language_info": {
   "codemirror_mode": {
    "name": "ipython",
    "version": 3
   },
   "file_extension": ".py",
   "mimetype": "text/x-python",
   "name": "python",
   "nbconvert_exporter": "python",
   "pygments_lexer": "ipython3",
   "version": "3.12.7"
  }
 },
 "nbformat": 4,
 "nbformat_minor": 5
}
