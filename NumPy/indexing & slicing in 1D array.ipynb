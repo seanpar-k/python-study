{
 "cells": [
  {
   "cell_type": "code",
   "execution_count": 1,
   "id": "5ae0bb85-b5f3-4ae0-b195-88d47cd5b089",
   "metadata": {},
   "outputs": [],
   "source": [
    "import numpy as np"
   ]
  },
  {
   "cell_type": "code",
   "execution_count": 3,
   "id": "75e17e5f-e4ec-4f6d-a108-742646594a2d",
   "metadata": {},
   "outputs": [],
   "source": [
    "gdp_array = np.array([6610, 7637, 8127, 8885, 10385, 12565, 13403, 12398, 8282, 10672])"
   ]
  },
  {
   "cell_type": "code",
   "execution_count": 5,
   "id": "8e829bde-5333-4605-9d41-c3034c79205b",
   "metadata": {},
   "outputs": [
    {
     "data": {
      "text/plain": [
       "6610"
      ]
     },
     "execution_count": 5,
     "metadata": {},
     "output_type": "execute_result"
    }
   ],
   "source": [
    "gdp_array[0]"
   ]
  },
  {
   "cell_type": "code",
   "execution_count": 7,
   "id": "425f58b0-be08-42ef-a393-4ca6f8458338",
   "metadata": {},
   "outputs": [
    {
     "data": {
      "text/plain": [
       "8127"
      ]
     },
     "execution_count": 7,
     "metadata": {},
     "output_type": "execute_result"
    }
   ],
   "source": [
    "gdp_array[2]"
   ]
  },
  {
   "cell_type": "code",
   "execution_count": 9,
   "id": "139bfddc-ad1b-41ed-a4fe-33c1bef81670",
   "metadata": {},
   "outputs": [
    {
     "data": {
      "text/plain": [
       "10672"
      ]
     },
     "execution_count": 9,
     "metadata": {},
     "output_type": "execute_result"
    }
   ],
   "source": [
    "gdp_array[-1]"
   ]
  },
  {
   "cell_type": "code",
   "execution_count": 11,
   "id": "3f8c7c8f-a1c1-48bb-bf19-0fe10a1aa86e",
   "metadata": {},
   "outputs": [
    {
     "data": {
      "text/plain": [
       "array([ 7637,  8885, 10385])"
      ]
     },
     "execution_count": 11,
     "metadata": {},
     "output_type": "execute_result"
    }
   ],
   "source": [
    "gdp_array[[1,3,4]]"
   ]
  },
  {
   "cell_type": "code",
   "execution_count": 13,
   "id": "bb40b8e7-2058-4ed0-bf49-f498b6ca95df",
   "metadata": {},
   "outputs": [
    {
     "data": {
      "text/plain": [
       "array([ 8127,  7637,  8885, 12565])"
      ]
     },
     "execution_count": 13,
     "metadata": {},
     "output_type": "execute_result"
    }
   ],
   "source": [
    "array1 = np.array([2,1,3,5])\n",
    "gdp_array[array1]"
   ]
  },
  {
   "cell_type": "code",
   "execution_count": 15,
   "id": "57efddeb-5368-4e70-863b-f7af46b673aa",
   "metadata": {},
   "outputs": [
    {
     "data": {
      "text/plain": [
       "array([ 8127,  8885, 10385, 12565])"
      ]
     },
     "execution_count": 15,
     "metadata": {},
     "output_type": "execute_result"
    }
   ],
   "source": [
    "gdp_array[2:6]"
   ]
  },
  {
   "cell_type": "code",
   "execution_count": 17,
   "id": "d1496b6a-f7ac-4ee2-805a-854a9db085ab",
   "metadata": {},
   "outputs": [
    {
     "data": {
      "text/plain": [
       "array([ 6610,  7637,  8127,  8885, 10385, 12565])"
      ]
     },
     "execution_count": 17,
     "metadata": {},
     "output_type": "execute_result"
    }
   ],
   "source": [
    "gdp_array[0:6]"
   ]
  },
  {
   "cell_type": "code",
   "execution_count": 19,
   "id": "1061f7d2-ef12-44f4-99f7-461f778d69d1",
   "metadata": {},
   "outputs": [
    {
     "data": {
      "text/plain": [
       "array([12565, 13403, 12398,  8282, 10672])"
      ]
     },
     "execution_count": 19,
     "metadata": {},
     "output_type": "execute_result"
    }
   ],
   "source": [
    "gdp_array[5:]"
   ]
  },
  {
   "cell_type": "code",
   "execution_count": 21,
   "id": "2ae527cb-3e91-4c24-8576-bf9b523059d8",
   "metadata": {},
   "outputs": [
    {
     "data": {
      "text/plain": [
       "array([ 7637, 10385, 12398])"
      ]
     },
     "execution_count": 21,
     "metadata": {},
     "output_type": "execute_result"
    }
   ],
   "source": [
    "gdp_array[1:8:3]"
   ]
  },
  {
   "cell_type": "markdown",
   "id": "3095b56e-3e6b-4a20-9e53-d2ace1b3acb1",
   "metadata": {},
   "source": [
    "### [시작 : 끝 : 간격]"
   ]
  },
  {
   "cell_type": "code",
   "execution_count": null,
   "id": "419e8512-837a-4274-ac79-411b611859d9",
   "metadata": {},
   "outputs": [],
   "source": []
  }
 ],
 "metadata": {
  "kernelspec": {
   "display_name": "Python [conda env:base] *",
   "language": "python",
   "name": "conda-base-py"
  },
  "language_info": {
   "codemirror_mode": {
    "name": "ipython",
    "version": 3
   },
   "file_extension": ".py",
   "mimetype": "text/x-python",
   "name": "python",
   "nbconvert_exporter": "python",
   "pygments_lexer": "ipython3",
   "version": "3.12.7"
  }
 },
 "nbformat": 4,
 "nbformat_minor": 5
}
